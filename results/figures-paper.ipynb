{
 "cells": [
  {
   "cell_type": "markdown",
   "metadata": {},
   "source": [
    "   Copyright 2019 Benjamin Santos\n",
    "\n",
    "   Licensed under the Apache License, Version 2.0 (the \"License\");\n",
    "   you may not use this file except in compliance with the License.\n",
    "   You may obtain a copy of the License at\n",
    "\n",
    "       http://www.apache.org/licenses/LICENSE-2.0\n",
    "\n",
    "   Unless required by applicable law or agreed to in writing, software\n",
    "   distributed under the License is distributed on an \"AS IS\" BASIS,\n",
    "   WITHOUT WARRANTIES OR CONDITIONS OF ANY KIND, either express or implied.\n",
    "   See the License for the specific language governing permissions and\n",
    "   limitations under the License.\n"
   ]
  },
  {
   "cell_type": "markdown",
   "metadata": {},
   "source": [
    "If you find this notebook useful, please cite as: Santos, B., Cacot, L., Boucher, C. & Vidal, F. Electrostatic enhancement factor for the coagulation of silicon nanoparticles in low-temperature plasmas. Plasma Sources Sci. Technol. 28, 045002 (2019)."
   ]
  },
  {
   "cell_type": "markdown",
   "metadata": {},
   "source": [
    "```@article{santos_electrostatic_2019,\n",
    "\ttitle = {Electrostatic enhancement factor for the coagulation of silicon nanoparticles in low-temperature plasmas},\n",
    "\tvolume = {28},\n",
    "\tissn = {0963-0252},\n",
    "\turl = {https://doi.org/10.1088%2F1361-6595%2Fab0a2b},\n",
    "\tdoi = {10.1088/1361-6595/ab0a2b},\n",
    "\tnumber = {4},\n",
    "\turldate = {2019-06-01},\n",
    "\tjournal = {Plasma Sources Sci. Technol.},\n",
    "\tauthor = {Santos, Benjamin and Cacot, Laura and Boucher, Claude and Vidal, François},\n",
    "\tmonth = apr,\n",
    "\tyear = {2019},\n",
    "\tpages = {045002},\n",
    "}```"
   ]
  },
  {
   "cell_type": "code",
   "execution_count": null,
   "metadata": {},
   "outputs": [],
   "source": [
    "%load_ext autoreload\n",
    "%autoreload 2"
   ]
  },
  {
   "cell_type": "code",
   "execution_count": null,
   "metadata": {},
   "outputs": [],
   "source": [
    "import os\n",
    "import sys\n",
    "module_path = os.path.abspath(os.path.join('..'))\n",
    "if module_path not in sys.path:\n",
    "    sys.path.append(module_path)\n",
    "os.chdir('../')"
   ]
  },
  {
   "cell_type": "code",
   "execution_count": null,
   "metadata": {},
   "outputs": [],
   "source": [
    "import numpy as np\n",
    "import trazar as tz\n",
    "from IPython.display import HTML"
   ]
  },
  {
   "cell_type": "markdown",
   "metadata": {},
   "source": [
    "# Figure 1"
   ]
  },
  {
   "cell_type": "code",
   "execution_count": null,
   "metadata": {},
   "outputs": [],
   "source": [
    "dirprefix = \"data/\"\n",
    "\n",
    "momentlist = [\"qe-nano-coulomb-coch-200us-1s-moments.dat\",\n",
    "              \"qe-nano-mpc-coch-200us-1s-moments.dat\",\n",
    "              \"qe-nano-ipa-coch-200us-1s-moments.dat\"]\n",
    "mlist = [dirprefix+f for f in momentlist]\n",
    "\n",
    "plasmalist = [\"qe-nano-coulomb-coch-200us-1s-plasma.dat\",\n",
    "              \"qe-nano-mpc-coch-200us-1s-plasma.dat\",\n",
    "              \"qe-nano-ipa-coch-200us-1s-plasma.dat\"]\n",
    "\n",
    "plist = [dirprefix+f for f in plasmalist]\n",
    "\n",
    "labels = ['Coulomb', 'MCP', 'IPA']\n",
    "\n",
    "filename = \"../papers/influence/fig1.eps\"\n",
    "\n",
    "fig1 = tz.PlotPanels(mlist, plist, labels, filename, coagulation_alone=True)\n",
    "\n",
    "pmom = fig1.plot()"
   ]
  },
  {
   "cell_type": "markdown",
   "metadata": {},
   "source": [
    "# Figure 2"
   ]
  },
  {
   "cell_type": "code",
   "execution_count": null,
   "metadata": {},
   "outputs": [],
   "source": [
    "dirprefix = \"data/\"\n",
    "\n",
    "momentlist = [\"qe-nano-coulomb-200us-1s-moments.dat\",\n",
    "              \"qe-nano-mpc-200us-1s-moments.dat\",\n",
    "              \"qe-nano-ipa-200us-1s-moments.dat\"]\n",
    "mlist = [dirprefix+f for f in momentlist]\n",
    "\n",
    "plasmalist = [\"qe-nano-coulomb-200us-1s-plasma.dat\",\n",
    "              \"qe-nano-mpc-200us-1s-plasma.dat\",\n",
    "              \"qe-nano-ipa-200us-1s-plasma.dat\"]\n",
    "\n",
    "plist = [dirprefix+f for f in plasmalist]\n",
    "\n",
    "labels = ['Coulomb', 'MCP', 'IPA']\n",
    "\n",
    "filename = \"../papers/influence/fig2.eps\"\n",
    "\n",
    "fig2 = tz.PlotPanels(mlist, plist, labels, filename, coagulation_alone=False)\n",
    "\n",
    "pmom = fig2.plot2()"
   ]
  },
  {
   "cell_type": "markdown",
   "metadata": {},
   "source": [
    "# Figure 3"
   ]
  },
  {
   "cell_type": "code",
   "execution_count": null,
   "metadata": {},
   "outputs": [],
   "source": [
    "nanof = [\"qe-nano-coulomb-200us-1s\",\n",
    "         \"qe-nano-mpc-200us-1s\",\n",
    "         \"qe-nano-ipa-200us-1s\"]\n",
    "\n",
    "gridf = \"grid-coulomb-100x60\"\n",
    "\n",
    "fname = '../papers/influence/fig3.eps'\n",
    "\n",
    "labels = [\"Coulomb\", \"MCP\", \"IPA\"]\n",
    "\n",
    "pt = tz.PlotDistros(nanof, gridf, labels)\n",
    "\n",
    "pt.plot_2times(-1, 19, labels=[\"Coulomb\", \"MCP\", \"IPA\"], savefile=fname)\n",
    "pt.close()"
   ]
  },
  {
   "cell_type": "markdown",
   "metadata": {},
   "source": [
    "# Figure 4"
   ]
  },
  {
   "cell_type": "code",
   "execution_count": null,
   "metadata": {},
   "outputs": [],
   "source": [
    "dirprefix = \"data/\"\n",
    "\n",
    "momentlist = [\"qe-nano-mpc-vdw21-200us-1s-moments.dat\",\n",
    "              \"qe-nano-mpc-vdw30-200us-1s-moments.dat\",\n",
    "              \"qe-nano-mpc-vdw45-200us-1s-moments.dat\",\n",
    "              \"qe-nano-mpc-vdw70-200us-1s-moments.dat\",\n",
    "              \"qe-nano-mpc-200us-1s-moments.dat\"]\n",
    "mlist = [dirprefix+f for f in momentlist]\n",
    "\n",
    "plasmalist = [\"qe-nano-mpc-vdw21-200us-1s-plasma.dat\",\n",
    "              \"qe-nano-mpc-vdw30-200us-1s-plasma.dat\",\n",
    "              \"qe-nano-mpc-vdw45-200us-1s-plasma.dat\",\n",
    "              \"qe-nano-mpc-vdw70-200us-1s-plasma.dat\",\n",
    "              \"qe-nano-mpc-200us-1s-plasma.dat\",]\n",
    "plist = [dirprefix+f for f in plasmalist]\n",
    "\n",
    "labels = [r\"$r_c=\"+str(float(f.split('vdw')[1].split('-')[0])/10)+r\"${\\AA}\" for f in momentlist[:-1]]\n",
    "labels.append('MCP')\n",
    "\n",
    "filename = \"../papers/influence/fig4.eps\"\n",
    "\n",
    "fig4 = tz.PlotPanels(mlist, plist, labels, filename, coagulation_alone=False)\n",
    "\n",
    "pmom = fig4.plot()"
   ]
  },
  {
   "cell_type": "markdown",
   "metadata": {},
   "source": [
    "# Figure 5"
   ]
  },
  {
   "cell_type": "code",
   "execution_count": null,
   "metadata": {},
   "outputs": [],
   "source": [
    "dirprefix = \"data/\"\n",
    "\n",
    "momentlist = [\"qe-nano-coulomb-vdw21-200us-1s-moments.dat\",\n",
    "              \"qe-nano-mpc-vdw21-200us-1s-moments.dat\",\n",
    "              \"qe-nano-ipa-vdw21-200us-1s-moments.dat\",\n",
    "              \"qe-nano-mpc-200us-1s-moments.dat\",]\n",
    "mlist = [dirprefix+f for f in momentlist]\n",
    "\n",
    "plasmalist = [\"qe-nano-coulomb-vdw21-200us-1s-plasma.dat\",\n",
    "              \"qe-nano-mpc-vdw21-200us-1s-plasma.dat\",\n",
    "              \"qe-nano-ipa-vdw21-200us-1s-plasma.dat\",\n",
    "              \"qe-nano-mpc-200us-1s-plasma.dat\",]\n",
    "plist = [dirprefix+f for f in plasmalist]\n",
    "\n",
    "labels = ['Coulomb+vdW', 'MCP+vdW', 'IPA+vdW', 'MCP']\n",
    "\n",
    "filename = \"../papers/influence/fig5.eps\"\n",
    "\n",
    "fig5 = tz.PlotPanels(mlist, plist, labels, filename, coagulation_alone=False)\n",
    "\n",
    "pmom = fig5.plot()"
   ]
  },
  {
   "cell_type": "markdown",
   "metadata": {},
   "source": [
    "# Figure 6"
   ]
  },
  {
   "cell_type": "code",
   "execution_count": null,
   "metadata": {},
   "outputs": [],
   "source": [
    "nanof = [\"qe-nano-mpc-vdw21-200us-1s\"]\n",
    "gridf = \"grid-mpc-100x60\"\n",
    "\n",
    "filename = \"../papers/influence/fig6.eps\"\n",
    "\n",
    "labels = [\"MCP+vdW\"]\n",
    "\n",
    "pt = tz.PlotDistros(nanof, gridf, labels)"
   ]
  },
  {
   "cell_type": "code",
   "execution_count": null,
   "metadata": {},
   "outputs": [],
   "source": [
    "pt.plot_fcdistro(\"MCP+vdW\", filename)"
   ]
  },
  {
   "cell_type": "code",
   "execution_count": null,
   "metadata": {},
   "outputs": [],
   "source": [
    "pt.plot_fulldistro(labels[0])\n",
    "danimation = tz.DistroAnimated(pt, labels[0])\n",
    "dani = danimation.animation(5)\n",
    "dani.save('results/distro-anim.gif', writer='imagemagick')"
   ]
  },
  {
   "cell_type": "code",
   "execution_count": null,
   "metadata": {},
   "outputs": [],
   "source": [
    "HTML(dani.to_html5_video())"
   ]
  },
  {
   "cell_type": "code",
   "execution_count": null,
   "metadata": {},
   "outputs": [],
   "source": [
    "pt.close()"
   ]
  },
  {
   "cell_type": "code",
   "execution_count": null,
   "metadata": {},
   "outputs": [],
   "source": [
    "nanof = [\"qe-nano-mpc-vdw21-200us-1s\",\n",
    "         \"qe-nano-mpc-200us-1s\"]\n",
    "\n",
    "gridf = \"grid-coulomb-100x60\"\n",
    "\n",
    "fname = '../papers/influence/fig7.eps'\n",
    "\n",
    "labels = [\"MCP+vdW\", \"MCP\"]\n",
    "\n",
    "pt = tz.PlotDistros(nanof, gridf, labels)\n",
    "\n",
    "pt.plot_2times(-1, 19, labels=labels, savefile=fname)\n",
    "\n",
    "pt.close()"
   ]
  },
  {
   "cell_type": "code",
   "execution_count": null,
   "metadata": {},
   "outputs": [],
   "source": []
  }
 ],
 "metadata": {
  "kernelspec": {
   "display_name": "python3-miniconda-base",
   "language": "python",
   "name": "python3-miniconda-base"
  },
  "language_info": {
   "codemirror_mode": {
    "name": "ipython",
    "version": 3
   },
   "file_extension": ".py",
   "mimetype": "text/x-python",
   "name": "python",
   "nbconvert_exporter": "python",
   "pygments_lexer": "ipython3",
   "version": "3.7.3"
  }
 },
 "nbformat": 4,
 "nbformat_minor": 4
}
